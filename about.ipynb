{
 "cells": [
  {
   "cell_type": "markdown",
   "metadata": {},
   "source": [
    "# nopCommerce_notebook\n",
    "Studies on open source software architecture, community, and other topics for the purpose of using the software and contributing to it. \n"
   ]
  },
  {
   "cell_type": "markdown",
   "metadata": {},
   "source": [
    "Command to run all code blocks \n",
    "```\n",
    "$find . -name \"*.ipynb\" | while read -r notebook; do jupyter nbconvert --to notebook --execute \"$notebook\" --inplace; done\n",
    "```"
   ]
  },
  {
   "cell_type": "markdown",
   "metadata": {},
   "source": [
    "Command to convert all Jupyter notebooks in all folders and subfolders to .html: \n",
    "\n",
    "```\n",
    "$pip install nbconvert \n",
    "\n",
    "$find . -name \"*.ipynb\" -exec jupyter nbconvert --to html {} \\;\n",
    "\n",
    "```"
   ]
  },
  {
   "cell_type": "markdown",
   "metadata": {},
   "source": [
    "Command to create a list of notes with links\n",
    "\n",
    "\n",
    "```\n",
    "$echo \"# Jupyter Notebooks HTML Links\" > README.md; echo \"\" >> README.md; find . -name \"*.html\" | sort | while read -r html_file; do folder_path=$(dirname \"$html_file\" | sed 's/^\\.\\///'); file_name=$(basename \"$html_file\"); file_title=$(echo \"$file_name\" | sed 's/_/ /g' | sed 's/.html//g'); echo \"- ${folder_path//\\//    }: [${file_title}](${html_file})\" >> README.md; done\n",
    "\n",
    "```"
   ]
  },
  {
   "cell_type": "markdown",
   "metadata": {},
   "source": []
  }
 ],
 "metadata": {
  "language_info": {
   "codemirror_mode": {
    "name": "ipython",
    "version": 3
   },
   "file_extension": ".py",
   "mimetype": "text/x-python",
   "name": "python",
   "nbconvert_exporter": "python",
   "pygments_lexer": "ipython3",
   "version": "3.12.1"
  }
 },
 "nbformat": 4,
 "nbformat_minor": 2
}
